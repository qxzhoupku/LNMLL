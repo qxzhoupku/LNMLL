{
 "cells": [
  {
   "cell_type": "code",
   "execution_count": null,
   "metadata": {},
   "outputs": [],
   "source": [
    "import numpy as np\n",
    "import scipy as sp\n",
    "import matplotlib.pyplot as plt"
   ]
  },
  {
   "cell_type": "code",
   "execution_count": null,
   "metadata": {},
   "outputs": [],
   "source": [
    "mode_number = 2**20\n",
    "FSR = 25e9\n",
    "omega_m = 2 * np.pi * FSR\n",
    "xs = np.linspace(0, 1 / FSR, mode_number)\n",
    "xs_freq = np.fft.fftshift(np.fft.fftfreq(mode_number, xs[1] - xs[0]))\n",
    "modes = np.arange(-mode_number // 2, mode_number // 2)\n",
    "\n",
    "gamma = 0\n",
    "k = 0.03\n",
    "alpha = 0.95\n",
    "phi_o = 0\n",
    "phi_m = 0\n",
    "phi_d = 1e-3\n",
    "r = np.sqrt(alpha * (1 - gamma) * (1 - k)) * np.exp(-1j * phi_o)\n",
    "M = 0.3 * np.pi\n",
    "\n"
   ]
  },
  {
   "cell_type": "code",
   "execution_count": null,
   "metadata": {},
   "outputs": [],
   "source": [
    "# Round trip model\n",
    "\n",
    "E_intra = np.sqrt(k / (1 - k)) * (r * np.exp(1j * M * np.sin(omega_m * xs))) / (1 - r * np.exp(1j * M * np.sin(omega_m * xs)))\n",
    "# E_intra = np.roll(E_intra, int(mode_number / 4))\n",
    "# E_intra = np.roll(E_intra, int(mode_number / 2))\n",
    "E_intra_spectrum = np.abs(np.fft.fftshift(np.fft.fft(E_intra)))**2 / mode_number**2\n",
    "E_intra_phase = np.angle(np.fft.fftshift(np.fft.fft(E_intra)))\n",
    "E_out = np.sqrt((1 - gamma) * (1 - k)) - np.sqrt(k * (1 - gamma)) * E_intra\n",
    "E_out_spectrum = np.abs(np.fft.fftshift(np.fft.fft(E_out)))**2\n",
    "E_out_phase = np.angle(np.fft.fftshift(np.fft.fft(E_out)))"
   ]
  },
  {
   "cell_type": "code",
   "execution_count": null,
   "metadata": {},
   "outputs": [],
   "source": [
    "window = 2**6\n",
    "\n",
    "plt.figure()\n",
    "plt.plot(modes[mode_number//2-window:mode_number//2+window], E_intra_spectrum[mode_number//2-window:mode_number//2+window], label='E_intra_spectrum')\n",
    "plt.yscale('log')\n",
    "plt.show()\n",
    "\n",
    "plt.figure()\n",
    "plt.plot(modes[mode_number//2-window:mode_number//2+window], E_intra_phase[mode_number//2-window:mode_number//2+window], label='E_intra_phase')\n",
    "plt.show()\n",
    "\n",
    "plt.figure()\n",
    "plt.plot(xs, np.abs(E_intra), label='E_intra')\n",
    "plt.show()"
   ]
  },
  {
   "cell_type": "code",
   "execution_count": null,
   "metadata": {},
   "outputs": [],
   "source": [
    "window = 2**6\n",
    "\n",
    "plt.figure()\n",
    "plt.plot(modes[mode_number//2-window:mode_number//2+window], E_out_spectrum[mode_number//2-window:mode_number//2+window], label='E_out_spectrum')\n",
    "plt.yscale('log')\n",
    "plt.show()\n",
    "\n",
    "plt.figure()\n",
    "plt.plot(modes[mode_number//2-window:mode_number//2+window], E_out_phase[mode_number//2-window:mode_number//2+window], label='E_out_phase')\n",
    "plt.show()\n",
    "\n",
    "plt.figure()\n",
    "plt.plot(xs, np.abs(E_out), label='E_out')\n",
    "plt.show()"
   ]
  },
  {
   "cell_type": "code",
   "execution_count": null,
   "metadata": {},
   "outputs": [],
   "source": [
    "# Steady state matrix\n",
    "\n",
    "def phi_total(p):\n",
    "    phi_tot = phi_o + p * phi_m + p**2 * phi_d\n",
    "    return phi_tot\n",
    "\n",
    "mode_number = 2**10\n",
    "xs = np.linspace(0, 1 / FSR, mode_number)\n",
    "xs_freq = np.fft.fftshift(np.fft.fftfreq(mode_number, xs[1] - xs[0]))\n",
    "modes = np.arange(-mode_number // 2, mode_number // 2)\n",
    "\n",
    "\n",
    "matrix_operator = np.zeros((mode_number, mode_number), dtype=complex)\n",
    "for p in modes:\n",
    "    for q in modes:\n",
    "        matrix_operator[p - modes[0], q - modes[0]] = r * sp.special.jv(p - q, M) * np.exp(1j * phi_total(q))\n",
    "\n",
    "B = np.zeros(mode_number, dtype=complex)\n",
    "for p in modes:\n",
    "    B[p - modes[0]] = np.sqrt(k / (1 - k)) * sp.special.jv(p, M) * np.exp(1j * phi_total(0))\n",
    "\n",
    "# print(matrix_operator)\n",
    "# print(B)\n",
    "# print(modes)\n",
    "\n",
    "\n"
   ]
  },
  {
   "cell_type": "code",
   "execution_count": null,
   "metadata": {},
   "outputs": [],
   "source": [
    "solution = np.linalg.solve(np.eye(mode_number) - matrix_operator, B)\n",
    "\n",
    "spectrum_steady = np.abs(solution)**2\n",
    "phase_steady = np.angle(solution)\n",
    "E_steady = np.fft.ifft(np.fft.ifftshift(solution)) * mode_number"
   ]
  },
  {
   "cell_type": "code",
   "execution_count": null,
   "metadata": {},
   "outputs": [],
   "source": [
    "window = 100\n",
    "\n",
    "plt.figure()\n",
    "plt.plot(modes[mode_number//2-window:mode_number//2+window], spectrum_steady[mode_number//2-window:mode_number//2+window], label='spectrum_steady')\n",
    "plt.yscale('log')\n",
    "plt.show()\n",
    "\n",
    "plt.figure()\n",
    "plt.plot(modes[mode_number//2-window:mode_number//2+window],phase_steady[mode_number//2-window:mode_number//2+window], label='phase_steady')\n",
    "plt.show()\n",
    "\n",
    "plt.figure()\n",
    "plt.plot(modes, np.abs(E_steady), label='E_steady')\n",
    "plt.show()"
   ]
  }
 ],
 "metadata": {
  "kernelspec": {
   "display_name": "Python 3",
   "language": "python",
   "name": "python3"
  },
  "language_info": {
   "codemirror_mode": {
    "name": "ipython",
    "version": 3
   },
   "file_extension": ".py",
   "mimetype": "text/x-python",
   "name": "python",
   "nbconvert_exporter": "python",
   "pygments_lexer": "ipython3",
   "version": "3.12.0"
  }
 },
 "nbformat": 4,
 "nbformat_minor": 2
}
