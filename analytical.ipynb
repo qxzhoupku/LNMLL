{
 "cells": [
  {
   "cell_type": "markdown",
   "metadata": {},
   "source": [
    "# Signal light\n",
    "$$(iD + \\frac{g}{\\Omega_g^2}) \\frac{\\partial^2 A}{\\partial t^2} - iM\\frac{1}{2}\\Omega^2 t^2 A = (l - iM -g + \\lambda) A$$\n",
    "$$A(T, t) = \\Sigma_n A_n(t) e^{\\lambda_n T / t_R}$$\n",
    "$$g = \\frac{g_0}{1 + P/P_{\\mathrm{sat}}}$$\n",
    "Ansatz with the lowest energy eigenstate wavefunction:\n",
    "$$A_0(t) = A_0 \\exp[-\\frac{t^2}{2 \\tau^2}(1 + i\\beta)],~\\tau,~\\beta \\in R$$\n",
    "$$A(T, t) = A_0(t) e^{\\lambda_0 T / t_R}$$\n",
    "With:\n",
    "$$D_g = \\frac{g}{\\Omega_g^2}$$\n",
    "$$M_s = \\frac{1}{2} M \\Omega^2$$\n",
    "We get:\n",
    "$$[(iD + D_g)\\frac{(1 + i\\beta)^2}{\\tau^4} - iM_s]t^2 = (l - iM - g + \\lambda_0) + \\frac{1 + i\\beta}{\\tau^2}(iD + D_g)$$\n",
    "From left hand side we can get:\n",
    "$$\\frac{1}{\\tau^2} = \\sqrt{\\frac{M_s}{D^2 + {D_g}^2}} \\sqrt{\\frac{\\sqrt{D^2 + {D_g}^2} + D}{2}},~\\tau = \\sqrt[4]{\\frac{2(D^2 + {D_g}^2)(\\sqrt{D^2 + {D_g}^2} - D)}{M_s {D_g}^2}}$$\n",
    "$$\\beta = \\sqrt{1 + {(\\frac{D}{D_g})}^2} - \\frac{D}{D_g}$$\n",
    "From right hand side we can get:\n",
    "$$\\lambda_0 = g - l + iM - \\sqrt{iM_s(iD + D_g)}$$\n",
    "Steady pulse requires: $\\mathrm{Re}\\{\\lambda_0\\} = 0$, then:\n",
    "$$g = l + \\sqrt{M_s} \\sqrt{\\frac{\\sqrt{D^2 + {D_g}^2} - D}{2}}$$\n",
    "$$\\mathrm{Im}\\{\\lambda_0\\} = M - \\sqrt{M_s} \\sqrt{\\frac{\\sqrt{D^2 + {D_g}^2} + D}{2}}$$\n",
    "Another constraint of g comes from gain saturation. Given $g,~g_0,~P_{\\mathrm{sat}}$, we can get $P$:\n",
    "$$P = (\\frac{g_0}{g} - 1) P_{\\mathrm{sat}}$$\n",
    "Our goal is to maximize the output signal light power $P_{\\mathrm{out}}$, which has the form:\n",
    "$$P_{\\mathrm{out}} = (1 - R) P$$\n",
    "Roundtrip loss $l$ consists of intrinsic loss and output coupler loss:\n",
    "$$l = \\frac{1}{2} \\alpha L - \\frac{1}{2}\\ln(R)$$\n",
    "Finally we get:\n",
    "$$P_{\\mathrm{out}} = (1 - R) (\\frac{g_0}{\\frac{1}{2} \\alpha L - \\frac{1}{2}\\ln(R) + \\sqrt{M_s} \\sqrt{\\frac{\\sqrt{D^2 + {D_g}^2} - D}{2}}} - 1) P_{\\mathrm{sat}}$$\n",
    "With $R$ the reflectivity of the output coupler for signal light, it can be chosen to optimize the output power based on device parameters.\n",
    "\n",
    "# Pump light\n",
    "Because of the FSR mismatch between signal and pump light, the equation for pump light cannot be written in a roundtrip form.\n",
    "$$t_R \\frac{\\partial A}{\\partial T} = [-l_p + g_p + iM \\cos(\\omega_m t + \\varphi(T))] A + \\sqrt{\\theta P_p}$$\n",
    "Here we ignore the distribution of effective gain(loss) from gain medium, considering weak spectral broadening caused by EO modulation. SPM is ignored as the input power is far below the parametric oscillation threshold where Kerr nonlinearity only serves as an additional detuning. Dispersion is neglected for simplicity, but can be easily added to calculation afterwards.<br>\n",
    "An infinite sum of time-shifted, phase-modulated copies of the input optical field can excatly describe the steady state intra-cavity field.\n",
    "$$E_{\\mathrm{intra}} = \\sqrt{\\frac{k}{1 - k}} \\Sigma_{n = 1}^{\\infty}r^n e^{iMF_n(\\omega_m t)} E_{0}(t - n t_R)$$\n",
    "This infinite sum can only be calculated numerically under the far detuned EO modulation condition. Otherwise, it can be solved with a matrix method.<br>\n",
    "Overall, the EO modulation reduce the pumping efficiency, which can be abstracted as a factor $\\eta$ in the pump power.<br>\n",
    "The numerical simulation indicates a maximum pumping efficiency happening at the microwave frequency of 1.5 FSR, while the exact number depends on modulation index $M$.<br>\n",
    "Therefore, the pump power can be written as:\n",
    "$$P_p = \\eta_{\\max}(M) \\frac{\\sqrt{\\theta P_p}}{l_p - g_p}$$\n",
    "With the explicit form of $l_p$:\n",
    "$$l_p = \\frac{1}{2} \\alpha_p L_p - \\frac{1}{2} \\ln(\\theta)$$\n",
    "Finally we get:\n",
    "$$P_p = \\eta_{\\max}(M) \\frac{\\sqrt{\\theta P_p}}{\\frac{1}{2} \\alpha_p L_p - \\frac{1}{2} \\ln(\\theta) - g_p}$$\n",
    "With $R$ the reflectivity of the input coupler for pump light, it can be chosen to maximize the intra-cavity pump power.\n",
    "\n",
    "# Gain medium\n",
    "All the constraint about involves saturation state of the gain medium.<br>\n",
    "To be done...\n",
    "\n"
   ]
  }
 ],
 "metadata": {
  "language_info": {
   "name": "python"
  }
 },
 "nbformat": 4,
 "nbformat_minor": 2
}
