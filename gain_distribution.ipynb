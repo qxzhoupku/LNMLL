{
 "cells": [
  {
   "cell_type": "code",
   "execution_count": null,
   "metadata": {},
   "outputs": [],
   "source": [
    "# import numpy as np\n",
    "import scipy.io\n",
    "from scipy import interpolate\n",
    "import matplotlib.pyplot as plt\n"
   ]
  },
  {
   "cell_type": "code",
   "execution_count": null,
   "metadata": {},
   "outputs": [],
   "source": [
    "data = scipy.io.loadmat('../../from_lxm/ER_property.mat')\n",
    "\n",
    "# print(data.keys())\n",
    "# print(data['__header__'])\n",
    "# print(data['__version__'])\n",
    "# print(data['__globals__'])\n",
    "\n",
    "delta12 = data['delta12_d'].reshape(-1)\n",
    "delta21 = data['delta21_d'].reshape(-1)\n",
    "wl_new_limited = data['wl_new_limited'].reshape(-1)\n",
    "# print(delta12.shape)\n",
    "# print(delta12)\n",
    "# print(delta21.shape)\n",
    "# print(delta21)\n",
    "# print(wl_new_limited.shape)\n",
    "# print(wl_new_limited)\n",
    "\n",
    "# plt.figure()\n",
    "# plt.plot(wl_new_limited, delta12, label='delta12')\n",
    "# plt.plot(wl_new_limited, delta21, label='delta21')\n",
    "# plt.legend()\n",
    "# plt.show()\n"
   ]
  },
  {
   "cell_type": "code",
   "execution_count": null,
   "metadata": {},
   "outputs": [],
   "source": [
    "# fit the data\n",
    "import numpy as np\n",
    "from scipy.optimize import curve_fit\n",
    "\n",
    "tck = interpolate.splrep(wl_new_limited, delta21, s=5e-50)\n",
    "\n",
    "# plt.figure()\n",
    "# plt.plot(wl_new_limited, delta21, label='delta12')\n",
    "# plt.plot(wl_new_limited, interpolate.splev(wl_new_limited, tck, der=0), label='interpolated')\n",
    "# plt.legend()\n",
    "# plt.show()\n"
   ]
  },
  {
   "cell_type": "code",
   "execution_count": null,
   "metadata": {},
   "outputs": [],
   "source": [
    "data_standard = interpolate.splev(1550, tck, der=0)\n",
    "new_tck = interpolate.splrep(wl_new_limited, delta21 / data_standard, s=1e-1)\n",
    "\n",
    "plt.figure()\n",
    "plt.plot(wl_new_limited, delta21 / data_standard, label='delta12')\n",
    "plt.plot(wl_new_limited, interpolate.splev(wl_new_limited, new_tck, der=0), label='interpolated')\n",
    "plt.legend()\n",
    "plt.show()\n",
    "\n",
    "gain_dist_generator = new_tck\n"
   ]
  }
 ],
 "metadata": {
  "kernelspec": {
   "display_name": "Python 3",
   "language": "python",
   "name": "python3"
  },
  "language_info": {
   "codemirror_mode": {
    "name": "ipython",
    "version": 3
   },
   "file_extension": ".py",
   "mimetype": "text/x-python",
   "name": "python",
   "nbconvert_exporter": "python",
   "pygments_lexer": "ipython3",
   "version": "3.12.0"
  }
 },
 "nbformat": 4,
 "nbformat_minor": 2
}
