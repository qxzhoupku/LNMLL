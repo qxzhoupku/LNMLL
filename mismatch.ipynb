{
 "cells": [
  {
   "cell_type": "code",
   "execution_count": null,
   "metadata": {},
   "outputs": [],
   "source": [
    "# Modules import\n",
    "import numpy as np\n",
    "import matplotlib.pyplot as plt\n"
   ]
  },
  {
   "cell_type": "code",
   "execution_count": null,
   "metadata": {},
   "outputs": [],
   "source": [
    "def single_run(ratio, M):\n",
    "    mode_number = 2**10\n",
    "    gamma = 0\n",
    "    k = 0.03\n",
    "    alpha = 0.95\n",
    "    r = np.sqrt(alpha * (1 - gamma) * (1 - k))\n",
    "    FSR = 25e9\n",
    "    t_R = 1 / FSR\n",
    "    t = np.linspace(0, t_R, mode_number)\n",
    "    omega_m = ratio * 2 * np.pi * FSR\n",
    "    up_limit = 10000\n",
    "\n",
    "\n",
    "    cache_F = [None for i in range(up_limit + 1)]\n",
    "    cache_F[0] = 0\n",
    "    def pre_compute_F():\n",
    "        for i in range(1, up_limit + 1):\n",
    "            cache_F[i] = cache_F[i - 1] + np.sin(omega_m * (t - i * t_R))\n",
    "\n",
    "    def Function_F(n):\n",
    "        return cache_F[n]\n",
    "\n",
    "    def sum_of_history():\n",
    "        sum = 0\n",
    "        # for n in range(up_limit, 0, -1):\n",
    "        for n in range(1, up_limit + 1):\n",
    "            sum += r**n * np.exp(1j * M * Function_F(n))\n",
    "        return sum\n",
    "\n",
    "    pre_compute_F()\n",
    "    E_in = sum_of_history()\n",
    "    # E_out = np.sqrt((1 - gamma) * (1 - k)) - k * np.sqrt((1 - gamma) / (1 - k)) * sum_of_history()\n",
    "    P_in = np.sum(np.abs(E_in)**2)\n",
    "\n",
    "    # plt.figure()\n",
    "    # plt.plot(t, np.abs(E_in))\n",
    "    # plt.show()\n",
    "\n",
    "    return P_in\n",
    "\n"
   ]
  },
  {
   "cell_type": "code",
   "execution_count": null,
   "metadata": {},
   "outputs": [],
   "source": [
    "P_benchmark = single_run(0, 0)\n",
    "\n",
    "print(P_benchmark)\n",
    "\n",
    "M = 0.5 * np.pi\n",
    "\n",
    "list_ratio = np.linspace(1.0, 2.0, 100)\n",
    "\n",
    "list_efficiency = [single_run(ratio, M) / P_benchmark for ratio in list_ratio]\n",
    "\n"
   ]
  },
  {
   "cell_type": "code",
   "execution_count": null,
   "metadata": {},
   "outputs": [],
   "source": [
    "print(list_ratio)\n",
    "print([float(x) for x in list_efficiency])"
   ]
  },
  {
   "cell_type": "code",
   "execution_count": null,
   "metadata": {},
   "outputs": [],
   "source": [
    "plt.figure()\n",
    "plt.plot(list_ratio, list_efficiency)\n",
    "plt.show()\n"
   ]
  }
 ],
 "metadata": {
  "kernelspec": {
   "display_name": "Python 3",
   "language": "python",
   "name": "python3"
  },
  "language_info": {
   "codemirror_mode": {
    "name": "ipython",
    "version": 3
   },
   "file_extension": ".py",
   "mimetype": "text/x-python",
   "name": "python",
   "nbconvert_exporter": "python",
   "pygments_lexer": "ipython3",
   "version": "3.12.0"
  }
 },
 "nbformat": 4,
 "nbformat_minor": 2
}
