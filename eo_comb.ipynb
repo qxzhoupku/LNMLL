{
 "cells": [
  {
   "cell_type": "code",
   "execution_count": null,
   "metadata": {},
   "outputs": [],
   "source": [
    "import numpy as np\n",
    "import matplotlib.pyplot as plt"
   ]
  },
  {
   "cell_type": "code",
   "execution_count": null,
   "metadata": {},
   "outputs": [],
   "source": [
    "mode_number = 2**20\n",
    "FSR = 25e9\n",
    "omega_m = 2 * np.pi * FSR\n",
    "xs = np.linspace(0, 1 / FSR, mode_number)\n",
    "xs_freq = np.fft.fftshift(np.fft.fftfreq(mode_number, xs[1] - xs[0]))\n",
    "modes = np.arange(-mode_number / 2, mode_number / 2)\n",
    "\n",
    "gamma = 0\n",
    "k = 0.03\n",
    "alpha = 0.95\n",
    "phi_o = 0\n",
    "r = np.sqrt(alpha * (1 - gamma) * (1 - k)) * np.exp(-1j * phi_o)\n",
    "M = 1 * np.pi\n",
    "\n",
    "E_intra = np.sqrt(k / (1 - k)) * (r * np.exp(1j * M * np.sin(omega_m * xs))) / (1 - r * np.exp(1j * M * np.sin(omega_m * xs)))\n",
    "# E_intra = np.roll(E_intra, int(mode_number / 4))\n",
    "# E_intra = np.roll(E_intra, int(mode_number / 2))\n",
    "E_intra_spectrum = np.abs(np.fft.fftshift(np.fft.fft(E_intra)))**2\n",
    "E_intra_phase = np.angle(np.fft.fftshift(np.fft.fft(E_intra)))\n",
    "E_out = np.sqrt((1 - gamma) * (1 - k)) - np.sqrt(k * (1 - gamma)) * E_intra\n",
    "E_out_spectrum = np.abs(np.fft.fftshift(np.fft.fft(E_out)))**2\n",
    "E_out_phase = np.angle(np.fft.fftshift(np.fft.fft(E_out)))"
   ]
  },
  {
   "cell_type": "code",
   "execution_count": null,
   "metadata": {},
   "outputs": [],
   "source": [
    "window = 2**6\n",
    "\n",
    "plt.figure()\n",
    "plt.plot(modes[mode_number//2-window:mode_number//2+window], E_intra_spectrum[mode_number//2-window:mode_number//2+window], label='E_intra_spectrum')\n",
    "plt.yscale('log')\n",
    "plt.show()\n",
    "\n",
    "plt.figure()\n",
    "plt.plot(modes[mode_number//2-window:mode_number//2+window], E_intra_phase[mode_number//2-window:mode_number//2+window], label='E_intra_phase')\n",
    "plt.show()\n",
    "\n",
    "plt.figure()\n",
    "plt.plot(xs, np.abs(E_intra), label='E_intra')\n",
    "plt.show()"
   ]
  },
  {
   "cell_type": "code",
   "execution_count": null,
   "metadata": {},
   "outputs": [],
   "source": [
    "window = 2**6\n",
    "\n",
    "plt.figure()\n",
    "plt.plot(modes[mode_number//2-window:mode_number//2+window], E_out_spectrum[mode_number//2-window:mode_number//2+window], label='E_out_spectrum')\n",
    "plt.yscale('log')\n",
    "plt.show()\n",
    "\n",
    "plt.figure()\n",
    "plt.plot(modes[mode_number//2-window:mode_number//2+window], E_out_phase[mode_number//2-window:mode_number//2+window], label='E_out_phase')\n",
    "plt.show()\n",
    "\n",
    "plt.figure()\n",
    "plt.plot(xs, np.abs(E_out), label='E_out')\n",
    "plt.show()"
   ]
  }
 ],
 "metadata": {
  "kernelspec": {
   "display_name": "Python 3",
   "language": "python",
   "name": "python3"
  },
  "language_info": {
   "codemirror_mode": {
    "name": "ipython",
    "version": 3
   },
   "file_extension": ".py",
   "mimetype": "text/x-python",
   "name": "python",
   "nbconvert_exporter": "python",
   "pygments_lexer": "ipython3",
   "version": "3.12.0"
  }
 },
 "nbformat": 4,
 "nbformat_minor": 2
}
